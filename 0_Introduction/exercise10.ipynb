{
 "cells": [
  {
   "cell_type": "markdown",
   "id": "07f67531",
   "metadata": {},
   "source": [
    "-----------------------------------------------------------------------------\n",
    "# Exercise 10\n",
    "Write a piece of code that prints the first $n$ numbers of the padovan sequence"
   ]
  },
  {
   "cell_type": "code",
   "execution_count": 11,
   "id": "d301c61b",
   "metadata": {},
   "outputs": [
    {
     "name": "stdout",
     "output_type": "stream",
     "text": [
      "number:12\n",
      "1\n",
      "1\n",
      "1\n",
      "2\n",
      "2\n",
      "3\n",
      "4\n",
      "5\n",
      "7\n",
      "9\n",
      "12\n",
      "16\n"
     ]
    }
   ],
   "source": [
    "n=int(input(\"number:\"))\n",
    "a=1\n",
    "b=1\n",
    "c=1\n",
    "if n<=0:\n",
    "    print(\"enter a positive number\")\n",
    "elif n==1:\n",
    "    print(a)\n",
    "elif n==2:\n",
    "    print(a)\n",
    "    print(b)\n",
    "elif n==3:\n",
    "    print(a)\n",
    "    print(b)\n",
    "    print(c)\n",
    "else:\n",
    "    print(a)\n",
    "    print(b)\n",
    "    print(c)\n",
    "    for number in range(4,n+1):\n",
    "        d=a+b\n",
    "        print(d)\n",
    "        a=b\n",
    "        b=c\n",
    "        c=d\n",
    "    \n",
    "    "
   ]
  },
  {
   "cell_type": "code",
   "execution_count": null,
   "id": "f79d5928",
   "metadata": {},
   "outputs": [],
   "source": []
  }
 ],
 "metadata": {
  "kernelspec": {
   "display_name": "Python 3 (ipykernel)",
   "language": "python",
   "name": "python3"
  },
  "language_info": {
   "codemirror_mode": {
    "name": "ipython",
    "version": 3
   },
   "file_extension": ".py",
   "mimetype": "text/x-python",
   "name": "python",
   "nbconvert_exporter": "python",
   "pygments_lexer": "ipython3",
   "version": "3.11.5"
  }
 },
 "nbformat": 4,
 "nbformat_minor": 5
}
