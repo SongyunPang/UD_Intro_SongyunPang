{
 "cells": [
  {
   "cell_type": "markdown",
   "id": "d101a2fe",
   "metadata": {},
   "source": [
    "# Exercise 00\n",
    "Write a piece of code that allocates a list of 20 integers and initializes each element by its index multiplied by 5. Print the result."
   ]
  },
  {
   "cell_type": "code",
   "execution_count": 5,
   "id": "01aa4f35",
   "metadata": {},
   "outputs": [
    {
     "name": "stdout",
     "output_type": "stream",
     "text": [
      "[0, 5, 10, 15, 20, 25, 30, 35, 40, 45, 50, 55, 60, 65, 70, 75, 80, 85, 90, 95]\n"
     ]
    }
   ],
   "source": [
    "list=[0,1,2,3,4,5,6,7,8,9,10,11,12,13,14,15,16,17,18,19]\n",
    "\n",
    "for result in range(len(list)):\n",
    "    list[result]=list[result]*5\n",
    "\n",
    "print(list)\n",
    "    "
   ]
  },
  {
   "cell_type": "code",
   "execution_count": 9,
   "id": "2f7049fa",
   "metadata": {},
   "outputs": [
    {
     "name": "stdout",
     "output_type": "stream",
     "text": [
      "[0, 5, 10, 15, 20, 25, 30, 35, 40, 45, 50, 55, 60, 65, 70, 75, 80, 85, 90, 95]\n"
     ]
    }
   ],
   "source": [
    "list=[ ]\n",
    "for result in range(20):\n",
    "    list.append(result*5)\n",
    "print(list)\n"
   ]
  },
  {
   "cell_type": "markdown",
   "id": "529d91ae",
   "metadata": {},
   "source": [
    "# Exercise 01\n",
    "Define a function that takes an integer as input, prints  all integers that it is divisable by, and returns the largest one."
   ]
  },
  {
   "cell_type": "code",
   "execution_count": 33,
   "id": "c686bc76",
   "metadata": {
    "scrolled": true
   },
   "outputs": [
    {
     "name": "stdout",
     "output_type": "stream",
     "text": [
      "enter an integer: 128\n",
      "all integers: \n",
      "1\n",
      "2\n",
      "4\n",
      "8\n",
      "16\n",
      "32\n",
      "64\n",
      "128\n",
      "the largest one: 128\n"
     ]
    }
   ],
   "source": [
    "number=int(input(\"enter an integer: \"))\n",
    "print(\"all integers: \")\n",
    "\n",
    "def integer(number):    \n",
    "    for i in range(1,number+1):\n",
    "        if number % i==0:\n",
    "            print(i)\n",
    "    return i\n",
    "\n",
    "largest=integer(number)\n",
    "print(\"the largest one:\",largest)    \n",
    "          \n"
   ]
  },
  {
   "cell_type": "markdown",
   "id": "cfbe30d4",
   "metadata": {},
   "source": [
    "# Exercise 02\n",
    "- create a dictionary with 6 keys and values of your choice\n",
    "- write a function that takes a dictionary and a value as input and returns whether the value occurs as a key in the dictionary\n",
    "- write a function that takes a dictionary as input, and returns the dictionary but the keys are swapped with their values (resolve the issue if a value occurs twice!)"
   ]
  },
  {
   "cell_type": "code",
   "execution_count": 26,
   "id": "2123f1c6",
   "metadata": {},
   "outputs": [],
   "source": [
    "dic={\"name\":\"pang\",\n",
    "     \"gender\":\"man\",\n",
    "     \"nationality\":\"china\",\n",
    "     \"age\":\"28\",\n",
    "     \"birthday\":\"0504\",\n",
    "     \"telephone\":\"123456\"}"
   ]
  },
  {
   "cell_type": "code",
   "execution_count": 29,
   "id": "c1935cf9",
   "metadata": {},
   "outputs": [
    {
     "data": {
      "text/plain": [
       "dict_keys(['name', 'gender', 'nationality', 'age', 'birthday', 'telephone'])"
      ]
     },
     "execution_count": 29,
     "metadata": {},
     "output_type": "execute_result"
    }
   ],
   "source": [
    "dic.keys()"
   ]
  },
  {
   "cell_type": "code",
   "execution_count": 30,
   "id": "71f7cc91",
   "metadata": {},
   "outputs": [
    {
     "data": {
      "text/plain": [
       "dict_values(['pang', 'man', 'china', '28', '0504', '123456'])"
      ]
     },
     "execution_count": 30,
     "metadata": {},
     "output_type": "execute_result"
    }
   ],
   "source": [
    "dic.values()"
   ]
  },
  {
   "cell_type": "code",
   "execution_count": 27,
   "id": "df44f33f",
   "metadata": {},
   "outputs": [
    {
     "name": "stdout",
     "output_type": "stream",
     "text": [
      "Enter a value: 0504\n",
      "yes\n"
     ]
    }
   ],
   "source": [
    "input_value = input(\"Enter a value: \")\n",
    "\n",
    "def whether(input_value):\n",
    "    return input_value in dic.values()\n",
    "\n",
    "result = whether(input_value)\n",
    "\n",
    "if result:\n",
    "    print(\"yes\")\n",
    "else:\n",
    "    print(\"no\")"
   ]
  },
  {
   "cell_type": "code",
   "execution_count": 38,
   "id": "d0a9cbe7",
   "metadata": {},
   "outputs": [
    {
     "name": "stdout",
     "output_type": "stream",
     "text": [
      "Enter a value: 0504\n",
      "yes\n"
     ]
    }
   ],
   "source": [
    "input_value = input(\"Enter a value: \")\n",
    "\n",
    "if input_value in dic.values():\n",
    "    print(\"yes\")\n",
    "else:\n",
    "    print(\"no\")"
   ]
  },
  {
   "cell_type": "code",
   "execution_count": 43,
   "id": "a837318b",
   "metadata": {},
   "outputs": [
    {
     "name": "stdout",
     "output_type": "stream",
     "text": [
      "pang name\n",
      "man gender\n",
      "china nationality\n",
      "28 age\n",
      "0504 birthday\n",
      "123456 telephone\n"
     ]
    }
   ],
   "source": [
    "for x in dic:\n",
    "    print(dic[x],x)"
   ]
  },
  {
   "cell_type": "code",
   "execution_count": 36,
   "id": "cc51f4a1",
   "metadata": {},
   "outputs": [
    {
     "name": "stdout",
     "output_type": "stream",
     "text": [
      "{'pang': 'name', 'man': 'gender', 'china': 'nationality', '28': 'age', '0504': 'birthday', '123456': 'telephone'}\n"
     ]
    }
   ],
   "source": [
    "dic={\"name\":\"pang\",\n",
    "     \"gender\":\"man\",\n",
    "     \"nationality\":\"china\",\n",
    "     \"age\":\"28\",\n",
    "     \"birthday\":\"0504\",\n",
    "     \"telephone\":\"123456\"}\n",
    "swap_dic = {}\n",
    "\n",
    "for x,y in dic.items():\n",
    "    swap_dic[y] = x\n",
    "\n",
    "print(swap_dic)"
   ]
  },
  {
   "cell_type": "markdown",
   "id": "b4b4e426",
   "metadata": {},
   "source": [
    "# Exercise 03\n",
    "Define a function that creates a dictionary of the first n fibonacci numbers as values paired with their indices as keys. "
   ]
  },
  {
   "cell_type": "code",
   "execution_count": 32,
   "id": "bed0bc81",
   "metadata": {},
   "outputs": [
    {
     "name": "stdout",
     "output_type": "stream",
     "text": [
      "the number of fibonacci numbers: 10\n",
      "the first 10 number is {1: 0, 2: 1, 3: 1, 4: 2, 5: 3, 6: 5, 7: 8, 8: 13, 9: 21, 10: 34}\n"
     ]
    }
   ],
   "source": [
    "n = int(input(\"the number of fibonacci numbers: \"))\n",
    "\n",
    "def F_dic (n):\n",
    "    dic={}\n",
    "    a, b =0,1\n",
    "    \n",
    "    for n in range(n):\n",
    "        dic[n+1]=a\n",
    "        a,b=b,a+b\n",
    "        \n",
    "    \n",
    "    return dic\n",
    "\n",
    "result=F_dic (n)\n",
    "print(f\"the first {n} number is\",result)\n"
   ]
  },
  {
   "cell_type": "code",
   "execution_count": null,
   "id": "c2479fdf",
   "metadata": {},
   "outputs": [],
   "source": []
  }
 ],
 "metadata": {
  "kernelspec": {
   "display_name": "Python 3 (ipykernel)",
   "language": "python",
   "name": "python3"
  },
  "language_info": {
   "codemirror_mode": {
    "name": "ipython",
    "version": 3
   },
   "file_extension": ".py",
   "mimetype": "text/x-python",
   "name": "python",
   "nbconvert_exporter": "python",
   "pygments_lexer": "ipython3",
   "version": "3.11.5"
  }
 },
 "nbformat": 4,
 "nbformat_minor": 5
}
